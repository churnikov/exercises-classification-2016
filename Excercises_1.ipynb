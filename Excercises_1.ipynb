{
 "cells": [
  {
   "cell_type": "markdown",
   "metadata": {},
   "source": [
    "# Задание 1\n",
    "\n",
    "[Свертка списка](https://ru.wikipedia.org/wiki/%D0%A1%D0%B2%D1%91%D1%80%D1%82%D0%BA%D0%B0_%D1%81%D0%BF%D0%B8%D1%81%D0%BA%D0%B0) -  это обобщенная операция над списком, c помощью которой можно преобразовать список в единое значение. Например рассмотрим реализации свертки слева и свертки справа (левоассоциативную свертку и правоассоциативную свертку):"
   ]
  },
  {
   "cell_type": "code",
   "execution_count": 1,
   "metadata": {
    "collapsed": true
   },
   "outputs": [],
   "source": [
    "def foldl(f, x0, lst):\n",
    "    if not lst:\n",
    "        return x0\n",
    "    return foldl(f, f(x0, lst[0]), lst[1:])\n",
    "\n",
    "def foldr(f, x0, lst):\n",
    "    if not lst:\n",
    "        return x0\n",
    "    return f(lst[0], foldr(f, x0, lst[1:]))"
   ]
  },
  {
   "cell_type": "code",
   "execution_count": 2,
   "metadata": {
    "collapsed": false
   },
   "outputs": [
    {
     "data": {
      "text/plain": [
       "6"
      ]
     },
     "execution_count": 2,
     "metadata": {},
     "output_type": "execute_result"
    }
   ],
   "source": [
    "#сумма\n",
    "foldl(lambda x, y: x + y, 0, [1, 2, 3])"
   ]
  },
  {
   "cell_type": "code",
   "execution_count": 3,
   "metadata": {
    "collapsed": false
   },
   "outputs": [
    {
     "data": {
      "text/plain": [
       "'123'"
      ]
     },
     "execution_count": 3,
     "metadata": {},
     "output_type": "execute_result"
    }
   ],
   "source": [
    "#конкатенация\n",
    "foldl(lambda x, y: '{}{}'.format(x, y), '', [1, 2, 3])"
   ]
  },
  {
   "cell_type": "code",
   "execution_count": 4,
   "metadata": {
    "collapsed": false
   },
   "outputs": [
    {
     "data": {
      "text/plain": [
       "(0.16666666666666666, 1.5)"
      ]
     },
     "execution_count": 4,
     "metadata": {},
     "output_type": "execute_result"
    }
   ],
   "source": [
    "f = lambda x, y: x / y\n",
    "foldl(f, 1, [1, 2, 3]), \\\n",
    "foldr(f, 1, [1, 2, 3])"
   ]
  },
  {
   "cell_type": "markdown",
   "metadata": {},
   "source": [
    "Задача: реализовать foldl через foldr и наоборот. Вместо многоточий нужно вставить выражения, которые бы привели к нужному результату."
   ]
  },
  {
   "cell_type": "code",
   "execution_count": 6,
   "metadata": {
    "collapsed": false
   },
   "outputs": [],
   "source": [
    "def foldl2(f, x0, lst):\n",
    "    return foldr(lambda x, y: lambda z: y(f(z, x)), lambda x: x, lst)(x0)"
   ]
  },
  {
   "cell_type": "code",
   "execution_count": 9,
   "metadata": {
    "collapsed": true
   },
   "outputs": [],
   "source": [
    "def foldr2(f, x0, lst):\n",
    "    return foldl(lambda y, x: lambda z: y(f(x, z)), lambda x: x, lst)(x0)"
   ]
  },
  {
   "cell_type": "markdown",
   "metadata": {},
   "source": [
    "Test"
   ]
  },
  {
   "cell_type": "code",
   "execution_count": 10,
   "metadata": {
    "collapsed": false
   },
   "outputs": [
    {
     "data": {
      "text/plain": [
       "(0.16666666666666666, 1.5)"
      ]
     },
     "execution_count": 10,
     "metadata": {},
     "output_type": "execute_result"
    }
   ],
   "source": [
    "foldl2(f, 1, [1, 2, 3]), \\\n",
    "foldr2(f, 1, [1, 2, 3])"
   ]
  },
  {
   "cell_type": "markdown",
   "metadata": {},
   "source": [
    "# Задание 2\n",
    "\n",
    "нужно написать функцию, которая принимает две строки и проверяет, входит ли хотя бы одна перестановка второй строки в первую. Например:\n",
    "\n",
    "> a = 'abcrotm'\n",
    "> \n",
    "> b = 'tro'\n",
    "\n",
    "функция def check_inv(a, b) вернет True, так как 'rot' содержится в 'abcrotm'. Нужно подумать как можно более оптимальный алгоритм и оценить его сложность. "
   ]
  },
  {
   "cell_type": "code",
   "execution_count": 129,
   "metadata": {
    "collapsed": false
   },
   "outputs": [],
   "source": [
    "#n - len of a; k - len of b\n",
    "def check_inv(a, b):  \n",
    "    b_dict = {ch : 0 for ch in b} #O(k)\n",
    "    b_dict_check = dict() #O(1)\n",
    "    for ch in b: #O(k)\n",
    "        b_dict[ch] = b_dict[ch] + 1 #O(1)\n",
    "    for i in range(0, len(a)): #O(n)\n",
    "        is_added = False\n",
    "        if a[i] in b_dict: #O(1)\n",
    "            is_added = True\n",
    "            if a[i] in b_dict_check: #O(1)\n",
    "                b_dict_check[a[i]] = b_dict_check[a[i]] + 1 #O(1)\n",
    "            else:\n",
    "                b_dict_check[a[i]] = 1 #O(1)\n",
    "        else:\n",
    "            b_dict_check.clear() #O(1)\n",
    "            is_added = False\n",
    "        if is_added:\n",
    "            if b_dict == b_dict_check:\n",
    "                return True\n",
    "    return False"
   ]
  },
  {
   "cell_type": "markdown",
   "metadata": {},
   "source": [
    "Худший случай выйдет O(k^2), и в среднем O(n*k)"
   ]
  },
  {
   "cell_type": "code",
   "execution_count": 89,
   "metadata": {
    "collapsed": false
   },
   "outputs": [
    {
     "data": {
      "text/plain": [
       "True"
      ]
     },
     "execution_count": 89,
     "metadata": {},
     "output_type": "execute_result"
    }
   ],
   "source": [
    "a = 'catatemate'\n",
    "b = 'eat'\n",
    "\n",
    "check_inv(a, b)"
   ]
  },
  {
   "cell_type": "markdown",
   "metadata": {},
   "source": [
    "# Задание 3\n",
    "\n",
    "Реализовать бинарное дерево (класс Tree), в нём методы __repr__, __str__, __iter__ (итерация только по листьям)."
   ]
  },
  {
   "cell_type": "code",
   "execution_count": 128,
   "metadata": {
    "collapsed": false
   },
   "outputs": [
    {
     "name": "stdout",
     "output_type": "stream",
     "text": [
      "True\n",
      "[3, 4, 2]\n",
      "Tree(0, Tree(1, Tree(3, None, None), Tree(4, None, None)), Tree(2, None, None))\n"
     ]
    }
   ],
   "source": [
    "class Tree:\n",
    "    def __init__(self, value=None, left=None, right=None):\n",
    "        self.left = left\n",
    "        self.right = right\n",
    "        self.value = value\n",
    "        \n",
    "    def __iter__(self):\n",
    "        if self.left:\n",
    "            yield from iter(self.left)\n",
    "        if self.right:\n",
    "            yield from iter(self.right)\n",
    "        else:\n",
    "            yield self.value\n",
    "    \n",
    "    def __str__(self):\n",
    "        return '{val}'.format(val = self.value)\n",
    "    \n",
    "    def __repr__(self):\n",
    "        return 'Tree({val}, {l}, {r})'.format(val = self.value, \n",
    "                                              l = repr(self.left), \n",
    "                                              r = repr(self.right))\n",
    "    \n",
    "tree = Tree(0, Tree(1, Tree(3), Tree(4)),                             \n",
    "               Tree(2))\n",
    "\n",
    "print(list(tree) == [3, 4, 2])\n",
    "print(list(tree))\n",
    "print(tree.__repr__())"
   ]
  },
  {
   "cell_type": "code",
   "execution_count": null,
   "metadata": {
    "collapsed": true
   },
   "outputs": [],
   "source": []
  }
 ],
 "metadata": {
  "anaconda-cloud": {},
  "kernelspec": {
   "display_name": "Python [Root]",
   "language": "python",
   "name": "Python [Root]"
  },
  "language_info": {
   "codemirror_mode": {
    "name": "ipython",
    "version": 3
   },
   "file_extension": ".py",
   "mimetype": "text/x-python",
   "name": "python",
   "nbconvert_exporter": "python",
   "pygments_lexer": "ipython3",
   "version": "3.5.2"
  }
 },
 "nbformat": 4,
 "nbformat_minor": 0
}
