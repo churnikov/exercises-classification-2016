{
 "cells": [
  {
   "cell_type": "markdown",
   "metadata": {},
   "source": [
    "# Разработка классификатора новостей\n",
    "\n",
    "**Нужно:**\n",
    "* выбрать какой-либо новостной ресурс, где к новостям привязаны категории или метки (например http://lenta.ru, http://fontanka.ru, http://gazeta.ru)\n",
    "* загрузить новости по некоторому набору (5-10) категорий за пару лет\n",
    "* обучить классификатор на эти новостях\n",
    "* продемонстрировать его работу, разработав простеший web-интерфейс (вариант - telegram-бот), куда пользователь вводит текст новости и на выходе получает наиболее вероятную категорию. В качестве фреймворка проще всего взять [Flask](http://flask.pocoo.org) (см. примеры) ."
   ]
  },
  {
   "cell_type": "code",
   "execution_count": 1,
   "metadata": {
    "collapsed": true
   },
   "outputs": [],
   "source": [
    "import requests\n",
    "from bs4 import BeautifulSoup"
   ]
  },
  {
   "cell_type": "markdown",
   "metadata": {},
   "source": [
    "### Что рассматривается\n",
    "Использовался сайт http://www.fontanka.ru/ и 15 категорий с 2014 года по 2015"
   ]
  },
  {
   "cell_type": "code",
   "execution_count": 7,
   "metadata": {
    "collapsed": true
   },
   "outputs": [],
   "source": [
    "url = 'http://www.fontanka.ru/'\n",
    "news_categs = {'autop' : 'Авто', \n",
    "               'culturecity' : 'Афиша', \n",
    "               'business' : 'Бизнес', \n",
    "               'politic' : 'Власть', \n",
    "               'spb' : 'Город',\n",
    "               'money' : 'Деньги',\n",
    "               'zhkh' : 'ЖКХ',\n",
    "               'family' : 'Личная жизнь',\n",
    "               'realty' : 'Недвижимость',\n",
    "               'incd' : 'Проишествия',\n",
    "               'sport' : 'Спорт',\n",
    "               'technology' : 'Тезнологии',\n",
    "               'turizm' : 'Туризм',\n",
    "               'finances' : 'Финансы',\n",
    "               'stroy' : 'Строительство'}\n",
    "# range returns range of length-1. list(range(1, 12)) == [1, 2, ... , 11]\n",
    "days = range(1, 32)\n",
    "mounths = range(1, 13)\n",
    "years = range(2014, 2017)"
   ]
  },
  {
   "cell_type": "markdown",
   "metadata": {},
   "source": [
    "### Выгрузка фонтанки\n",
    "Был использован архив новостей фонтанки http://www.fontanka.ru/fontanka/arc/all.html<br>\n",
    "Было выгружено 13594 страницы. При этом были пропущены страницы содержащие видео или сайты, вроде, http://fontanka.fi<br>\n",
    "В итоге была получена numpy матрица размера (13594, 2)"
   ]
  },
  {
   "cell_type": "markdown",
   "metadata": {},
   "source": [
    "Ниже описан метод для парсинга одной календарной страницы, например <br>\n",
    "http://www.fontanka.ru/fontanka/2016/01/01/all.html <br>\n",
    "Этот метод возвращает ссылки на страницы с новостями по определенной категории<br>\n",
    "Он необходим для процесса выгрузки"
   ]
  },
  {
   "cell_type": "code",
   "execution_count": 66,
   "metadata": {
    "collapsed": false,
    "scrolled": true
   },
   "outputs": [
    {
     "name": "stdout",
     "output_type": "stream",
     "text": [
      "something is wrong with http://www.fontanka.ru/2015/11/16/139/\n",
      "something is wrong with http://www.fontanka.ru/2015/10/13/121/\n",
      "something is wrong with http://www.fontanka.ru/2015/10/14/146/\n",
      "something is wrong with http://www.fontanka.ru/2015/10/13/051/\n",
      "something is wrong with http://www.fontanka.ru/2015/10/21/078/\n",
      "something is wrong with http://www.fontanka.ru/2015/11/18/032/\n",
      "something is wrong with http://www.fontanka.ru/2015/10/29/086/\n",
      "something is wrong with http://www.fontanka.ru/2015/10/13/064/\n"
     ]
    },
    {
     "data": {
      "text/plain": [
       "(13594, 2)"
      ]
     },
     "execution_count": 66,
     "metadata": {},
     "output_type": "execute_result"
    }
   ],
   "source": [
    "import numpy as np\n",
    "list_cat_text = []\n",
    "for cat in news_categs.keys():\n",
    "    for y in years:\n",
    "        for m in mounths:\n",
    "            for d in days:\n",
    "                calendar_url = 'http://www.fontanka.ru/'+str(cat)+'/'+str(y)+'/'+str(m)+'/'+str(d)+'/news.html'\n",
    "                r = requests.get(calendar_url)\n",
    "                if r.status_code == 200:\n",
    "                    calendar_page = BeautifulSoup(r.text, 'lxml')\n",
    "                    links = get_links(calendar_page, cat)\n",
    "                    for l in links:\n",
    "                        news_page_get = requests.get(l)\n",
    "                        \n",
    "                        with open('log.txt', 'a') as f:\n",
    "                            f.write(l + '\\n')\n",
    "                            f.write(str(news_page_get.status_code) + '\\n')\n",
    "                        try:\n",
    "                            news_page = BeautifulSoup(news_page_get.text, 'lxml')\n",
    "                            parags = [p for p in news_page.find('div', 'article_fulltext').find_all('p', recursive=False)]\n",
    "                            text = ' '.join([t.get_text().strip() for t in parags])\n",
    "                            list_cat_text.append((cat, text))\n",
    "                        except Exception:\n",
    "                            print('something is wrong with {lk}'.format(lk=l))\n",
    "                            continue\n",
    "mat = np.array(list_cat_text)\n",
    "mat.shape"
   ]
  },
  {
   "cell_type": "code",
   "execution_count": 58,
   "metadata": {
    "collapsed": false
   },
   "outputs": [
    {
     "data": {
      "text/plain": [
       "['http://www.fontanka.ru/2015/01/01/029/',\n",
       " 'http://www.fontanka.ru/2015/01/01/014/']"
      ]
     },
     "execution_count": 58,
     "metadata": {},
     "output_type": "execute_result"
    }
   ],
   "source": [
    "import re\n",
    "reg_cat = re.compile('[\\w]+')\n",
    "reg_site = re.compile('http:')\n",
    "def get_links(soup_page, category):\n",
    "    main_page = 'http://www.fontanka.ru'\n",
    "    \"\"\"\n",
    "    soup_page -- page, that came through BeautifulSoup. This page contains links to news\n",
    "                 like this one http://www.fontanka.ru/business/2015/01/01/news.html\n",
    "    category -- links to categories that are needed to be found (there are pages that contain different category, \n",
    "                even though we selected different one, look up the link above)\n",
    "            \n",
    "    returns list of links to certain category\n",
    "    \"\"\"\n",
    "    links = []\n",
    "    for item in soup_page.find_all('div', 'calendar-item'):\n",
    "        cat_link = item.find('a', 'categorylink')['href']\n",
    "        cat = reg_cat.search(cat_link).group(0)\n",
    "        if category == cat:\n",
    "            item_title = item.find('div', 'calendar-item-title')\n",
    "            posib_link = item_title.find('a')['href']\n",
    "            if not reg_site.search(posib_link):\n",
    "                link = main_page + posib_link\n",
    "                links.append(link)\n",
    "    return links\n",
    "get_links(soup, 'business')"
   ]
  },
  {
   "cell_type": "markdown",
   "metadata": {},
   "source": [
    "### Распределение новостей по категориям"
   ]
  },
  {
   "cell_type": "code",
   "execution_count": 68,
   "metadata": {
    "collapsed": true
   },
   "outputs": [],
   "source": [
    "from collections import Counter"
   ]
  },
  {
   "cell_type": "code",
   "execution_count": 71,
   "metadata": {
    "collapsed": false
   },
   "outputs": [
    {
     "data": {
      "text/plain": [
       "Counter({'autop': 446,\n",
       "         'business': 1381,\n",
       "         'culturecity': 8,\n",
       "         'family': 26,\n",
       "         'finances': 974,\n",
       "         'incd': 5566,\n",
       "         'money': 51,\n",
       "         'politic': 2142,\n",
       "         'realty': 68,\n",
       "         'spb': 1294,\n",
       "         'sport': 973,\n",
       "         'stroy': 43,\n",
       "         'technology': 238,\n",
       "         'turizm': 149,\n",
       "         'zhkh': 235})"
      ]
     },
     "execution_count": 71,
     "metadata": {},
     "output_type": "execute_result"
    }
   ],
   "source": [
    "count = Counter(mat[:, 0])\n",
    "count"
   ]
  },
  {
   "cell_type": "code",
   "execution_count": 93,
   "metadata": {
    "collapsed": false
   },
   "outputs": [
    {
     "data": {
      "image/png": "[encoded data removed]",
      "text/plain": [
       "<matplotlib.figure.Figure at 0x15028b438>"
      ]
     },
     "metadata": {},
     "output_type": "display_data"
    }
   ],
   "source": [
    "import matplotlib.pyplot as plt\n",
    "inds = range(len(count.keys()))\n",
    "plt.bar(inds, count.values(), width=0.3)\n",
    "x_labels = [news_categs[l] for l in count.keys()]\n",
    "plt.xticks(np.array(inds) + 0.3/2., count.keys(), rotation='vertical')\n",
    "plt.show()"
   ]
  },
  {
   "cell_type": "markdown",
   "metadata": {},
   "source": [
    "Распределние новостей очень неравномерное, поэтому при построении svm модели будет использована опция<br> `class_weight='balanced`"
   ]
  },
  {
   "cell_type": "markdown",
   "metadata": {},
   "source": [
    "### Построение модели"
   ]
  },
  {
   "cell_type": "code",
   "execution_count": 98,
   "metadata": {
    "collapsed": true
   },
   "outputs": [],
   "source": [
    "from sklearn.feature_extraction.text import TfidfVectorizer, CountVectorizer\n",
    "from nltk.stem.snowball import SnowballStemmer"
   ]
  },
  {
   "cell_type": "markdown",
   "metadata": {},
   "source": [
    "Используется отдельный метод для построения tf_idf vectorizer, чтобы получить стемы слов. В результате должен получиться меньше словарь, что полезно, с учётом количества рассматриваемых документов. <br>\n",
    "Остальные опции можно было использовать и без создания отдельного метода:\n",
    "- max_df=0.8 отсев по максимальной частоте слова в документах\n",
    "- min_df= 5 отсев по минимальной частоте слова в документах\n",
    "- stop_words=stop_words отсев стоп-слов"
   ]
  },
  {
   "cell_type": "code",
   "execution_count": 103,
   "metadata": {
    "collapsed": true
   },
   "outputs": [],
   "source": [
    "with open('Data/stop_words.txt', 'r') as f:\n",
    "    stop_words = [w.strip() for w in f]\n",
    "\n",
    "def build_tfidf_vectorizer():\n",
    "    \"\"\"\n",
    "    Creating empty TfidfVectorizer\n",
    "    \"\"\"\n",
    "    stemmer = SnowballStemmer('russian')\n",
    "    tkzr = CountVectorizer(token_pattern='[a-zA-Zа-яА-Я]+').build_tokenizer()\n",
    "\n",
    "    stem_tokenize = lambda tokens: [stemmer.stem(item) for item in tokens if item not in stop_words]\n",
    "    tokenize = lambda text: stem_tokenize(tkzr(text))\n",
    "\n",
    "    return TfidfVectorizer(max_df=0.8, min_df= 5,\n",
    "                           tokenizer=tokenize,\n",
    "                           stop_words=stop_words)"
   ]
  },
  {
   "cell_type": "code",
   "execution_count": 106,
   "metadata": {
    "collapsed": false
   },
   "outputs": [],
   "source": [
    "tf_idfs_vectorizer = build_tfidf_vectorizer()"
   ]
  },
  {
   "cell_type": "code",
   "execution_count": 155,
   "metadata": {
    "collapsed": false
   },
   "outputs": [
    {
     "data": {
      "text/plain": [
       "(13594, 12899)"
      ]
     },
     "execution_count": 155,
     "metadata": {},
     "output_type": "execute_result"
    }
   ],
   "source": [
    "tf_idfs = tf_idfs_vectorizer.fit_transform(mat[:, 1])\n",
    "tf_idfs.shape"
   ]
  },
  {
   "cell_type": "code",
   "execution_count": 109,
   "metadata": {
    "collapsed": true
   },
   "outputs": [],
   "source": [
    "from sklearn.model_selection import train_test_split"
   ]
  },
  {
   "cell_type": "markdown",
   "metadata": {},
   "source": [
    "Разделение на тестовое и тренировочное множества<br>\n",
    "Тестовое множество составляет 25%"
   ]
  },
  {
   "cell_type": "code",
   "execution_count": 110,
   "metadata": {
    "collapsed": true
   },
   "outputs": [],
   "source": [
    "x_train, x_test, y_train, y_test = train_test_split(tf_idfs, mat[:, 0], test_size=0.25)\n",
    "x_train.shape, x_test.shape, y_train.shape, y_test.shape"
   ]
  },
  {
   "cell_type": "code",
   "execution_count": 108,
   "metadata": {
    "collapsed": true
   },
   "outputs": [],
   "source": [
    "from sklearn.svm import LinearSVC"
   ]
  },
  {
   "cell_type": "markdown",
   "metadata": {},
   "source": [
    "Построение [линейной SVM](http://scikit-learn.org/stable/modules/generated/sklearn.svm.LinearSVC.html) на тренировочном множестве с установленным параметром class_weight='balances'"
   ]
  },
  {
   "cell_type": "code",
   "execution_count": 115,
   "metadata": {
    "collapsed": false
   },
   "outputs": [
    {
     "data": {
      "text/plain": [
       "LinearSVC(C=1.0, class_weight='balanced', dual=True, fit_intercept=True,\n",
       "     intercept_scaling=1, loss='squared_hinge', max_iter=1000,\n",
       "     multi_class='ovr', penalty='l2', random_state=None, tol=0.0001,\n",
       "     verbose=0)"
      ]
     },
     "execution_count": 115,
     "metadata": {},
     "output_type": "execute_result"
    }
   ],
   "source": [
    "svm = LinearSVC(class_weight='balanced')\n",
    "svm.fit(x_train, y_train)"
   ]
  },
  {
   "cell_type": "markdown",
   "metadata": {},
   "source": [
    "На тестовой выборке, количество верных предсказаний равно 79%"
   ]
  },
  {
   "cell_type": "code",
   "execution_count": 116,
   "metadata": {
    "collapsed": false
   },
   "outputs": [
    {
     "data": {
      "text/plain": [
       "0.79052662547808183"
      ]
     },
     "execution_count": 116,
     "metadata": {},
     "output_type": "execute_result"
    }
   ],
   "source": [
    "svm.score(x_test, y_test)"
   ]
  },
  {
   "cell_type": "markdown",
   "metadata": {},
   "source": [
    "Предсказание текста: <br>\n",
    "*Отвечая на вопрос журналистов, повлияют ли слова Кадырова на итоговое решение по бюджету, Песков сказал: «Я не знаю. Дело в том, что это же не просто тема согласия или несогласия. Это тема аргументации, этот вопрос связан не просто с интересом одного субъекта РФ, это вопрос общего бюджета страны, достаточно сложная субстанция, где должны приниматься во внимание все аспекты, что собственно и будет происходить в Госдуме».*"
   ]
  },
  {
   "cell_type": "code",
   "execution_count": 163,
   "metadata": {
    "collapsed": false
   },
   "outputs": [],
   "source": [
    "t = [\"Отвечая на вопрос журналистов, повлияют ли слова Кадырова на итоговое решение по бюджету, Песков сказал: «Я не знаю. Дело в том, что это же не просто тема согласия или несогласия. Это тема аргументации, этот вопрос связан не просто с интересом одного субъекта РФ, это вопрос общего бюджета страны, достаточно сложная субстанция, где должны приниматься во внимание все аспекты, что собственно и будет происходить в Госдуме».\"]\n",
    "tf = tf_idfs_vectorizer.transform(t)"
   ]
  },
  {
   "cell_type": "code",
   "execution_count": 164,
   "metadata": {
    "collapsed": false
   },
   "outputs": [
    {
     "data": {
      "text/plain": [
       "'Власть'"
      ]
     },
     "execution_count": 164,
     "metadata": {},
     "output_type": "execute_result"
    }
   ],
   "source": [
    "news_categs[svm.predict(tf)[0]]"
   ]
  },
  {
   "cell_type": "markdown",
   "metadata": {},
   "source": [
    "Предсказание текста: <br>\n",
    "*Российский путешественник погиб в Индии во время полета на параплане. Инцидент произошел во вторник, 1 ноября, в штате Химачал-Прадеш на севере страны. Об этом сообщает издание The Indian Express.*"
   ]
  },
  {
   "cell_type": "code",
   "execution_count": 149,
   "metadata": {
    "collapsed": true
   },
   "outputs": [],
   "source": [
    "afisha = ['Российский путешественник погиб в Индии во время полета на параплане. Инцидент произошел во вторник, 1 ноября, в штате Химачал-Прадеш на севере страны. Об этом сообщает издание The Indian Express.']\n",
    "tf_afisha = tf_idfs_vectorizer.transform(afisha)"
   ]
  },
  {
   "cell_type": "code",
   "execution_count": 165,
   "metadata": {
    "collapsed": false
   },
   "outputs": [
    {
     "data": {
      "text/plain": [
       "'Проишествия'"
      ]
     },
     "execution_count": 165,
     "metadata": {},
     "output_type": "execute_result"
    }
   ],
   "source": [
    "news_categs[svm.predict(tf_afisha)[0]]"
   ]
  },
  {
   "cell_type": "markdown",
   "metadata": {},
   "source": [
    "# Web view for Exercise 5. Prediction of news categories.\n",
    "To run this You need to write in terminal:\n",
    "1. export FLASK_APP=flaskr\n",
    "2. flask initdb\n",
    "3. flask run<br>\n",
    "   Then you can proceed to http://localhost:5000/\n",
    "\n",
    "If you press logout, **login: admin**, **password: default**<br>\n",
    "And it's pretty heavy, so be patient *(sorry c:)*<br>\n",
    "\n",
    "\n",
    "Thanks to flask for [flaskr example](https://github.com/pallets/flask/tree/master/examples/flaskr/)\n"
   ]
  },
  {
   "cell_type": "code",
   "execution_count": null,
   "metadata": {
    "collapsed": true
   },
   "outputs": [],
   "source": []
  }
 ],
 "metadata": {
  "anaconda-cloud": {},
  "kernelspec": {
   "display_name": "Python [default]",
   "language": "python",
   "name": "python3"
  },
  "language_info": {
   "codemirror_mode": {
    "name": "ipython",
    "version": 3
   },
   "file_extension": ".py",
   "mimetype": "text/x-python",
   "name": "python",
   "nbconvert_exporter": "python",
   "pygments_lexer": "ipython3",
   "version": "3.5.2"
  }
 },
 "nbformat": 4,
 "nbformat_minor": 1
}
