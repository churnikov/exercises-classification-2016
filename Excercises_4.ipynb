{
 "cells": [
  {
   "cell_type": "markdown",
   "metadata": {},
   "source": [
    "# Загрузка базы вопросов ЧГК\n",
    "\n",
    "Нужно загрузить все доступные вопросы и ответы к ним с базы http:///db.chgk.info . Результаты необходимо сохранить в каком-либо формате в форме вопрос-ответ (pickle, sqlite, текстовый файл и т.д.). "
   ]
  },
  {
   "cell_type": "code",
   "execution_count": 59,
   "metadata": {
    "collapsed": false
   },
   "outputs": [],
   "source": [
    "from bs4 import BeautifulSoup\n",
    "import requests"
   ]
  },
  {
   "cell_type": "code",
   "execution_count": 60,
   "metadata": {
    "collapsed": false
   },
   "outputs": [],
   "source": [
    "path = 'http://db.chgk.info'\n",
    "r = requests.get('http://db.chgk.info')"
   ]
  },
  {
   "cell_type": "code",
   "execution_count": 61,
   "metadata": {
    "collapsed": false
   },
   "outputs": [],
   "source": [
    "soup = BeautifulSoup(r.text, 'lxml')"
   ]
  },
  {
   "cell_type": "code",
   "execution_count": 109,
   "metadata": {
    "collapsed": false
   },
   "outputs": [],
   "source": [
    "import re\n",
    "last_page = soup.find('a', title='Перейти на последнюю страницу')['href']\n",
    "n_of_pages = int(re.compile('\\d+').search(last_page).group(0))"
   ]
  },
  {
   "cell_type": "code",
   "execution_count": 279,
   "metadata": {
    "collapsed": true
   },
   "outputs": [],
   "source": [
    "import urllib.request\n",
    "\n",
    "def get_image(img_tag):\n",
    "    \"\"\"\n",
    "    gets img_tag and saves files to Data/images_chgk/\n",
    "    \n",
    "    returns file name \n",
    "            or None if there is no image\n",
    "            \n",
    "    example: 123123.jpg\n",
    "    \"\"\"\n",
    "    \n",
    "#     regular expression for image name\n",
    "    reg = re.compile('[\\d]+.[\\w]+$')\n",
    "    if img_tag:\n",
    "#         img_tag usualy looks like '<img src=\"http://db.chgk.info/images/db/20160407.jpg\">'\n",
    "        img_url = img_tag['src']\n",
    "        img_name_found = reg.search(img_url)\n",
    "        if img_name_found:\n",
    "            img_name = img_name_found.group(0)\n",
    "        else:\n",
    "            return None\n",
    "        urllib.request.urlretrieve(img_url, 'Data/images_chgk/' + img_name)\n",
    "        return img_name\n",
    "    return None"
   ]
  },
  {
   "cell_type": "code",
   "execution_count": 254,
   "metadata": {
    "collapsed": false
   },
   "outputs": [],
   "source": [
    "def get_question(block):\n",
    "    \"\"\"\n",
    "    gets block -- <div class = \"question\">\n",
    "    \n",
    "    returns tuple (question_text, image_name) where:\n",
    "        question_text -- all text found in before <div class=\"collapsible\"> including 'razdatka'\n",
    "        image_names -- name of image found before <div class=\"collapsible\">. It is saved in 'Data/images_chgk/'.\n",
    "    \"\"\"\n",
    "\n",
    "    question_text = ''\n",
    "\n",
    "    for t in block.find_all(text=True, recursive=False):\n",
    "        if t: question_text += ' ' + t.strip()\n",
    "    \n",
    "    for t in block.find('p').find_all(text=True, recursive=False):\n",
    "        if t: question_text += ' ' + t.strip()\n",
    "    \n",
    "    razdatka = block.find('div', 'razdatka')\n",
    "    if razdatka:\n",
    "        r_texts = razdatka.find_all(text=True, recursive=True)\n",
    "        for t in r_texts:\n",
    "            question_text += ' ' + t.strip()\n",
    "    \n",
    "#     get_image returns None if there is no image\n",
    "    give_out = block.find('img')\n",
    "    image_name = get_image(give_out)\n",
    "\n",
    "    return question_text, image_name"
   ]
  },
  {
   "cell_type": "code",
   "execution_count": 255,
   "metadata": {
    "collapsed": true
   },
   "outputs": [],
   "source": [
    "def get_answer(block):\n",
    "    \"\"\"\n",
    "    block -- <div class=\"collapse-processed\">\n",
    "    \n",
    "    returns tuple (answer_text, image_name, comment_text)\n",
    "    \"\"\"\n",
    "    answer_block = block.find('p')\n",
    "    answer_text = answer_block.get_text().strip()\n",
    "    \n",
    "    comment_block = answer_block.find_next_sibling('p')\n",
    "    if comment_block:\n",
    "        comment_text = comment_block.get_text().strip()\n",
    "    else:\n",
    "        comment_text = None\n",
    "    image_name = get_image(block.find('img'))\n",
    "    \n",
    "    return answer_text, image_name, comment_text\n",
    "    "
   ]
  },
  {
   "cell_type": "code",
   "execution_count": 256,
   "metadata": {
    "collapsed": true
   },
   "outputs": [],
   "source": [
    "def get_questions(page):\n",
    "    \"\"\"\n",
    "    page -- page on db.chgk.info with questions\n",
    "    \n",
    "    returns list of tuple where each tuple: \n",
    "        (question text;\n",
    "        image name for question if there is one. if not, it is None;\n",
    "        answer text;\n",
    "        image name for answer if there is one. if not, it is None;\n",
    "        comment text if there is one. in not, it is None.)\n",
    "    \"\"\"\n",
    "    questions = []\n",
    "    soup_quest = BeautifulSoup(page.text, 'lxml')\n",
    "    for s, a in zip(soup_quest.find_all('div', 'question'), soup_quest.find_all('div', 'collapsible')):\n",
    "        question_text, q_image_name = get_question(s)\n",
    "        answer_text, ans_image_name, comment_text = get_answer(a)\n",
    "        \n",
    "        if question_text == '':\n",
    "            print(page.url)\n",
    "        else:\n",
    "            questions.append((question_text, q_image_name, answer_text, ans_image_name, comment_text))\n",
    "    return questions"
   ]
  },
  {
   "cell_type": "code",
   "execution_count": 261,
   "metadata": {
    "collapsed": true
   },
   "outputs": [],
   "source": [
    "def get_links(page):\n",
    "    \"\"\"\n",
    "    page -- html that was got from iterating over links on main page\n",
    "    \n",
    "    returns pack of links to pages with questions\n",
    "    \"\"\"\n",
    "    soup_pack = BeautifulSoup(page.text, 'lxml')\n",
    "    pack = []\n",
    "    for o in soup_pack.find_all('tr', 'odd'):\n",
    "        pack.append(path + o.find('a')['href'])\n",
    "    for e in soup_pack.find_all('tr', 'even'):\n",
    "        pack.append(path + e.find('a')['href'])\n",
    "    return pack"
   ]
  },
  {
   "cell_type": "code",
   "execution_count": null,
   "metadata": {
    "collapsed": false,
    "scrolled": true
   },
   "outputs": [],
   "source": [
    "questions = []\n",
    "for i in range(n_of_pages+1):\n",
    "    print(i)\n",
    "    payload = {'page' : i}\n",
    "    page = requests.get('http://db.chgk.info/last', params=payload)\n",
    "    links = get_links(page)\n",
    "    for l in links:\n",
    "        q = requests.get(l)\n",
    "        quests = get_questions(q)\n",
    "        questions.extend(quests)"
   ]
  },
  {
   "cell_type": "code",
   "execution_count": 285,
   "metadata": {
    "collapsed": false
   },
   "outputs": [
    {
     "data": {
      "text/plain": [
       "[('     Согласно порталу WomanAdvice, в кинокомпании \"Sony\" боятся провала\\nочередного продолжения франшизы, поэтому сделали предложение известному\\nчеловеку получить 15 долларов за 7. Какие девять символов мы пропустили\\nв тексте вопроса?',\n",
       "  None,\n",
       "  'Ответ: 000000000.',\n",
       "  None,\n",
       "  'Зачёт: Девять нолей.'),\n",
       " ('     Английский король Генрих VII Тюдор, выросший за рубежом, вернулся на\\nродину с войском наемников, намереваясь захватить власть. Под флагом\\nкакого княжества сражались войска Генриха?',\n",
       "  None,\n",
       "  'Ответ: Уэльс.',\n",
       "  None,\n",
       "  'Зачёт: Уэльского.'),\n",
       " ('     Психолог Бен Амбридж отмечает, что женщины отличаются от мужчин не\\nстолько способностями, сколько более сложным внутренним миром. Объясняя\\nэти различия, он приводит в пример не Венеру, а икс. Какие четыре буквы\\nмы пропустили в предыдущем предложении?',\n",
       "  None,\n",
       "  'Ответ: С, н, е, р.',\n",
       "  None,\n",
       "  'Комментарий: По мнению психолога, мужчины и женщины — это не Марс и Венера, а,\\nскорее, \"Марс\" и \"Сникерс\": в общем-то, одинаковые, только у одного\\nначинка почуднее.'),\n",
       " ('     Рассказывая о том, почему Сингапур является прекрасным и чистым городом,\\nжурнал \"Вокруг света\" упоминает его прозвище \"Good city\" [гуд сИти].\\nКакое слово мы заменили в предыдущем предложении?',\n",
       "  None,\n",
       "  'Ответ: Fine.',\n",
       "  None,\n",
       "  'Комментарий: Слово \"fine\" можно перевести не только как \"прекрасный\", но и как\\n\"штраф\". Сингапур прославился множеством санкций и крупных штрафов даже\\nза незначительные, на взгляд европейца, нарушения.'),\n",
       " ('     Одна из стран планирует построить на границе с Россией забор, чтобы\\nостановить въезд нелегальных мигрантов. На посвященной этой новости\\nкарикатуре из английского названия страны вычеркнули одну букву. Какую?',\n",
       "  None,\n",
       "  'Ответ: r.',\n",
       "  None,\n",
       "  'Комментарий: Норвегия часто предпринимает попытки остановить наплыв беженцев. Граница\\nНорвегии с Россией относительно мала. Английское название Norway\\n[нОрвэй] без буквы \"r\" [ар] означает \"No way\" [нОу вэй] — путь закрыт.')]"
      ]
     },
     "execution_count": 285,
     "metadata": {},
     "output_type": "execute_result"
    }
   ],
   "source": [
    "questions[:5]"
   ]
  },
  {
   "cell_type": "code",
   "execution_count": 282,
   "metadata": {
    "collapsed": true
   },
   "outputs": [],
   "source": [
    "import pickle\n",
    "with open('Data/pickles/questions_chgk.pickle', 'wb') as f:\n",
    "    pickle.dump(questions, f)"
   ]
  },
  {
   "cell_type": "code",
   "execution_count": 283,
   "metadata": {
    "collapsed": true
   },
   "outputs": [],
   "source": [
    "q_from_pickle = None\n",
    "with open('Data/pickles/questions_chgk.pickle', 'rb') as f:\n",
    "    q_from_pickle = pickle.load(f)"
   ]
  },
  {
   "cell_type": "code",
   "execution_count": 284,
   "metadata": {
    "collapsed": false
   },
   "outputs": [
    {
     "data": {
      "text/plain": [
       "[('     Согласно порталу WomanAdvice, в кинокомпании \"Sony\" боятся провала\\nочередного продолжения франшизы, поэтому сделали предложение известному\\nчеловеку получить 15 долларов за 7. Какие девять символов мы пропустили\\nв тексте вопроса?',\n",
       "  None,\n",
       "  'Ответ: 000000000.',\n",
       "  None,\n",
       "  'Зачёт: Девять нолей.'),\n",
       " ('     Английский король Генрих VII Тюдор, выросший за рубежом, вернулся на\\nродину с войском наемников, намереваясь захватить власть. Под флагом\\nкакого княжества сражались войска Генриха?',\n",
       "  None,\n",
       "  'Ответ: Уэльс.',\n",
       "  None,\n",
       "  'Зачёт: Уэльского.'),\n",
       " ('     Психолог Бен Амбридж отмечает, что женщины отличаются от мужчин не\\nстолько способностями, сколько более сложным внутренним миром. Объясняя\\nэти различия, он приводит в пример не Венеру, а икс. Какие четыре буквы\\nмы пропустили в предыдущем предложении?',\n",
       "  None,\n",
       "  'Ответ: С, н, е, р.',\n",
       "  None,\n",
       "  'Комментарий: По мнению психолога, мужчины и женщины — это не Марс и Венера, а,\\nскорее, \"Марс\" и \"Сникерс\": в общем-то, одинаковые, только у одного\\nначинка почуднее.'),\n",
       " ('     Рассказывая о том, почему Сингапур является прекрасным и чистым городом,\\nжурнал \"Вокруг света\" упоминает его прозвище \"Good city\" [гуд сИти].\\nКакое слово мы заменили в предыдущем предложении?',\n",
       "  None,\n",
       "  'Ответ: Fine.',\n",
       "  None,\n",
       "  'Комментарий: Слово \"fine\" можно перевести не только как \"прекрасный\", но и как\\n\"штраф\". Сингапур прославился множеством санкций и крупных штрафов даже\\nза незначительные, на взгляд европейца, нарушения.'),\n",
       " ('     Одна из стран планирует построить на границе с Россией забор, чтобы\\nостановить въезд нелегальных мигрантов. На посвященной этой новости\\nкарикатуре из английского названия страны вычеркнули одну букву. Какую?',\n",
       "  None,\n",
       "  'Ответ: r.',\n",
       "  None,\n",
       "  'Комментарий: Норвегия часто предпринимает попытки остановить наплыв беженцев. Граница\\nНорвегии с Россией относительно мала. Английское название Norway\\n[нОрвэй] без буквы \"r\" [ар] означает \"No way\" [нОу вэй] — путь закрыт.')]"
      ]
     },
     "execution_count": 284,
     "metadata": {},
     "output_type": "execute_result"
    }
   ],
   "source": [
    "q_from_pickle[:5]"
   ]
  }
 ],
 "metadata": {
  "anaconda-cloud": {},
  "kernelspec": {
   "display_name": "Python [conda root]",
   "language": "python",
   "name": "conda-root-py"
  },
  "language_info": {
   "codemirror_mode": {
    "name": "ipython",
    "version": 3
   },
   "file_extension": ".py",
   "mimetype": "text/x-python",
   "name": "python",
   "nbconvert_exporter": "python",
   "pygments_lexer": "ipython3",
   "version": "3.5.2"
  }
 },
 "nbformat": 4,
 "nbformat_minor": 1
}
